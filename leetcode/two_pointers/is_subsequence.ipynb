{
 "cells": [
  {
   "cell_type": "markdown",
   "metadata": {},
   "source": [
    "Given two strings s and t, return true if s is a subsequence of t, or false otherwise.\n",
    "\n",
    "A subsequence of a string is a new string that is formed from the original string by deleting some (can be none) of the characters without disturbing the relative positions of the remaining characters. (i.e., \"ace\" is a subsequence of \"abcde\" while \"aec\" is not).\n",
    "\n"
   ]
  },
  {
   "cell_type": "code",
   "execution_count": 39,
   "metadata": {},
   "outputs": [],
   "source": [
    "class Solution:\n",
    "    def isSubsequence(self, s: str, t: str) -> bool:\n",
    "        p0 = 0\n",
    "        p1 = 0\n",
    "        while p1 < len(t) and p0 < len(s):\n",
    "            #print(p0,p1,s,t)\n",
    "            if s[p0] == t[p1]:\n",
    "                p0 +=1\n",
    "                p1 +=1\n",
    "            else:\n",
    "                p1 += 1\n",
    "        if p0 == len(s):\n",
    "            return True\n",
    "        else:\n",
    "            return False "
   ]
  },
  {
   "cell_type": "code",
   "execution_count": 41,
   "metadata": {},
   "outputs": [],
   "source": [
    "\n",
    "s = Solution()\n",
    "#Test case 1: Both strings are empty\n",
    "assert s.isSubsequence(\"\", \"\") == True\n",
    "assert s.isSubsequence(\"abc\", \"ahbgdc\") == True\n",
    "assert s.isSubsequence(\"abc\", \"abcdef\") == True\n",
    "assert s.isSubsequence(\"abc\", \"adebfc\") == True\n",
    "assert s.isSubsequence(\"ace\", \"abcde\") == True\n",
    "#assert s.isSubsequence(\"abc\", \"ab\") == False\n",
    "#assert s.isSubsequence(\"abc\", \"ac\") == False\n",
    "#assert s.isSubsequence(\"abc\", \"bc\") == False\n",
    "#assert s.isSubsequence(\"abc\", \"c\") == False\n",
    "##assert s.isSubsequence(\"abc\", \"a\") == False\n",
    "#assert s.isSubsequence(\"abc\", \"b\") == False\n",
    "#assert s.isSubsequence(\"abc\", \"c\") == False\n",
    "#assert s.isSubsequence(\"abc\", \"ab\") == False\n",
    "#assert s.isSubsequence(\"abc\", \"bc\") == False\n"
   ]
  },
  {
   "cell_type": "code",
   "execution_count": null,
   "metadata": {},
   "outputs": [],
   "source": []
  },
  {
   "cell_type": "code",
   "execution_count": null,
   "metadata": {},
   "outputs": [],
   "source": []
  }
 ],
 "metadata": {
  "kernelspec": {
   "display_name": "Python 3",
   "language": "python",
   "name": "python3"
  },
  "language_info": {
   "codemirror_mode": {
    "name": "ipython",
    "version": 3
   },
   "file_extension": ".py",
   "mimetype": "text/x-python",
   "name": "python",
   "nbconvert_exporter": "python",
   "pygments_lexer": "ipython3",
   "version": "3.11.6"
  }
 },
 "nbformat": 4,
 "nbformat_minor": 2
}
