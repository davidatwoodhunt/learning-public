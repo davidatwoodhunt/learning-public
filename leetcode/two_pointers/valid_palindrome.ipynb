{
 "cells": [
  {
   "cell_type": "markdown",
   "metadata": {},
   "source": [
    "# Valid Palindrome \n",
    "\n",
    "A phrase is a palindrome if, after converting all uppercase letters into lowercase letters and removing all non-alphanumeric characters, it reads the same forward and backward. Alphanumeric characters include letters and numbers.\n",
    "\n",
    "Given a string s, return true if it is a palindrome, or false otherwise.\n",
    "\n"
   ]
  },
  {
   "cell_type": "code",
   "execution_count": 40,
   "metadata": {},
   "outputs": [],
   "source": [
    "class Solution:\n",
    "    def isPalindrome(self, s: str) -> bool:\n",
    "        LETTERS = \"QWERTYUIOPASDFGHJKLZXCVBNM1234567890\"\n",
    "        clean_string = \"\".join([c for c in s.upper() if c in LETTERS])\n",
    "        if clean_string == \"\" or clean_string == \" \": return True\n",
    "        p1 = 0\n",
    "        p2 = len(clean_string)-1\n",
    "        is_pal = True\n",
    "        while p1 < p2:\n",
    "            if clean_string[p1] == clean_string[p2]:\n",
    "                is_pal = True\n",
    "            else:\n",
    "                return False\n",
    "            p1 +=1\n",
    "            p2 -=1\n",
    "        return is_pal \n",
    "        "
   ]
  },
  {
   "cell_type": "markdown",
   "metadata": {},
   "source": [
    "# Notes:\n",
    "- The trick here is edge case finding \n",
    "- taking care that the first time you find an inequality then you can just say no without having to go back \n",
    "\n",
    "# Time and space complexity\n",
    "- Solution is going to run _O(n)_ in worst case \n",
    "  - we do iterate over the string twice to clean it once and to find the palindrome _ness_ of it in second case\n",
    "    - however even worst case we're going half over the string $$ \\mathcal{O} (\\frac{n}{2}) + \\mathcal{O} (2n) = \\mathcal{O}(n) $$"
   ]
  },
  {
   "cell_type": "code",
   "execution_count": null,
   "metadata": {},
   "outputs": [],
   "source": []
  },
  {
   "cell_type": "code",
   "execution_count": 41,
   "metadata": {},
   "outputs": [],
   "source": [
    "if __name__ == '__main__':\n",
    "    s = Solution()\n",
    "    valid_palindrome = s.isPalindrome\n",
    "    s.isPalindrome(\",; W;:GlG:;l ;,\")\n",
    "    assert valid_palindrome(\"\") == True\n",
    "    assert valid_palindrome(\"A man, a plan, a canal: Panama\") == True\n",
    "    assert valid_palindrome(\"race a car\") == False\n",
    "    assert valid_palindrome(\"level\") == True\n",
    "    assert valid_palindrome(\"12321\") == True\n",
    "    assert valid_palindrome(\"hello\") == False\n",
    "    assert valid_palindrome(\"a\") == True\n",
    "    assert valid_palindrome(\",; W;:GlG:;l ;,\") == False"
   ]
  },
  {
   "cell_type": "code",
   "execution_count": null,
   "metadata": {},
   "outputs": [],
   "source": []
  },
  {
   "cell_type": "code",
   "execution_count": null,
   "metadata": {},
   "outputs": [],
   "source": []
  }
 ],
 "metadata": {
  "kernelspec": {
   "display_name": "Python 3",
   "language": "python",
   "name": "python3"
  },
  "language_info": {
   "codemirror_mode": {
    "name": "ipython",
    "version": 3
   },
   "file_extension": ".py",
   "mimetype": "text/x-python",
   "name": "python",
   "nbconvert_exporter": "python",
   "pygments_lexer": "ipython3",
   "version": "3.11.6"
  }
 },
 "nbformat": 4,
 "nbformat_minor": 2
}
